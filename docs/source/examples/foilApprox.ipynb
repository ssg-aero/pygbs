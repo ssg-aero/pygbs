{
 "cells": [
  {
   "cell_type": "markdown",
   "metadata": {},
   "source": [
    "# Foil approximation"
   ]
  },
  {
   "cell_type": "code",
   "execution_count": 14,
   "metadata": {},
   "outputs": [],
   "source": [
    "\n",
    "import requests\n",
    "\n",
    "foil_name = 'e1098'\n",
    "\n",
    "url = f\"http://airfoiltools.com/airfoil/seligdatfile?airfoil={foil_name}-il\"\n",
    "\n",
    "response = requests.get(url)\n",
    "response.raise_for_status()  # Will raise an HTTPError if the HTTP request returned an unsuccessful status code\n",
    "lines = response.text.split(\"\\n\")\n",
    "lines .pop(0)\n",
    "lines .pop(-1)\n",
    "\n",
    "points = [ list(map(float, line.split())) for line in lines]\n"
   ]
  },
  {
   "cell_type": "code",
   "execution_count": 15,
   "metadata": {},
   "outputs": [],
   "source": [
    "from pygbs import core\n",
    "from pygbs import interpolate\n",
    "\n",
    "curve = interpolate.approx(\n",
    "    points,\n",
    "    deg=3\n",
    ")"
   ]
  },
  {
   "cell_type": "code",
   "execution_count": null,
   "metadata": {},
   "outputs": [],
   "source": [
    "from pygbs.plotlyplot import plot_bs_curve_2d\n",
    "import plotly.graph_objects as go\n",
    "\n",
    "\n",
    "fig = plot_bs_curve_2d(curve)\n",
    "fig.add_trace(\n",
    "go.Scatter(\n",
    "    x = [pt[0] for pt in points],\n",
    "    y = [pt[1] for pt in points],\n",
    "    mode = 'markers',\n",
    ")\n",
    ")"
   ]
  }
 ],
 "metadata": {
  "kernelspec": {
   "display_name": "test-gbs",
   "language": "python",
   "name": "python3"
  },
  "language_info": {
   "codemirror_mode": {
    "name": "ipython",
    "version": 3
   },
   "file_extension": ".py",
   "mimetype": "text/x-python",
   "name": "python",
   "nbconvert_exporter": "python",
   "pygments_lexer": "ipython3",
   "version": "3.11.11"
  }
 },
 "nbformat": 4,
 "nbformat_minor": 2
}
