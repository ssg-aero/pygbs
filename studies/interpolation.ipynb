{
 "cells": [
  {
   "cell_type": "code",
   "execution_count": null,
   "metadata": {},
   "outputs": [],
   "source": [
    "from pygbs.core import BSCurve2d\n",
    "from pygbs.interpolate import interpolate_c1\n",
    "from pygbs.plotlyplot import plot_bs_curve_2d\n",
    "\n",
    "constraints = [\n",
    "    [ [0.,0.], [0., 1.] ], # [ [x0, y0], [dx0/du, dy0/du] ]\n",
    "    [ [1.,0.], [1.,-2.] ], # [ [x1, y1], [dx1/du, dy1/du] ]\n",
    "]\n",
    "\n",
    "curve = interpolate_c1(constraints)\n",
    "\n",
    "plot_bs_curve_2d(curve)"
   ]
  }
 ],
 "metadata": {
  "kernelspec": {
   "display_name": "test-gbs",
   "language": "python",
   "name": "python3"
  },
  "language_info": {
   "codemirror_mode": {
    "name": "ipython",
    "version": 3
   },
   "file_extension": ".py",
   "mimetype": "text/x-python",
   "name": "python",
   "nbconvert_exporter": "python",
   "pygments_lexer": "ipython3",
   "version": "3.11.11"
  }
 },
 "nbformat": 4,
 "nbformat_minor": 2
}
